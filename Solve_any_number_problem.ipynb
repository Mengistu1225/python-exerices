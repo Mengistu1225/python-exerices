{
 "cells": [
  {
   "cell_type": "raw",
   "id": "46e938fa-fd5c-47d3-b311-6955b2728c65",
   "metadata": {},
   "source": [
    "Program : Template\n",
    "\n",
    "m=n\n",
    "initialization\n",
    "while m!=0:\n",
    "   d=m%10\n",
    "   logic\n",
    "   m=m//10\n",
    "if check:\n",
    "   print(\"yess\")\n",
    "else:\n",
    "   print(\"No\")"
   ]
  },
  {
   "cell_type": "code",
   "execution_count": 7,
   "id": "c75c96fd-7979-4dc0-ae18-2a178cc48576",
   "metadata": {},
   "outputs": [
    {
     "name": "stdin",
     "output_type": "stream",
     "text": [
      "Enter the number 234\n"
     ]
    },
    {
     "name": "stdout",
     "output_type": "stream",
     "text": [
      "4\n",
      "3\n",
      "2\n",
      "the input is from function\n",
      "4\n",
      "3\n",
      "2\n",
      "None\n"
     ]
    }
   ],
   "source": [
    "# print all digits of a number on d/t lines\n",
    "n=int(input(\"Enter the number\"))\n",
    "m=n\n",
    "while m!=0:\n",
    "    d=m%10\n",
    "    print(d)\n",
    "    m=m//10\n",
    "def split_number(n):\n",
    "    m=n\n",
    "    while m!=0:\n",
    "        d=m%10\n",
    "        print(d)\n",
    "        m=m//10\n",
    "print(\"the input is from function\")    \n",
    "result=split_number(n)\n",
    "print(result)"
   ]
  },
  {
   "cell_type": "code",
   "execution_count": 17,
   "id": "e72d6457-2667-4506-9e94-e46482b60681",
   "metadata": {},
   "outputs": [
    {
     "name": "stdin",
     "output_type": "stream",
     "text": [
      "Enter the number 24642\n"
     ]
    },
    {
     "name": "stdout",
     "output_type": "stream",
     "text": [
      "24642 is palindrome number\n"
     ]
    }
   ],
   "source": [
    "# check the number is palindrome or not\n",
    "n=int(input(\"Enter the number\"))\n",
    "m=n\n",
    "sum=0\n",
    "while m!=0:\n",
    "    d=m%10\n",
    "    sum=sum*10+d\n",
    "    m=m//10\n",
    "if sum==n:\n",
    "    print('{} is palindrome number'.format(n))\n",
    "else:\n",
    "    print('{} is not palindrome number'.format(n))"
   ]
  },
  {
   "cell_type": "code",
   "execution_count": 21,
   "id": "ccc425fb-7f33-47b7-bd53-2a0e3e5c5ce2",
   "metadata": {},
   "outputs": [
    {
     "name": "stdin",
     "output_type": "stream",
     "text": [
      "Enter the number 234\n"
     ]
    },
    {
     "name": "stdout",
     "output_type": "stream",
     "text": [
      "234 is not spy number\n"
     ]
    }
   ],
   "source": [
    "# check the number is spy number\n",
    "n=int(input(\"Enter the number\"))\n",
    "m=n\n",
    "pro=1\n",
    "sum=0\n",
    "while m!=0:\n",
    "    d=m%10\n",
    "    pro = pro*d\n",
    "    sum=sum+d\n",
    "    m=m//10\n",
    "if pro==sum:\n",
    "    print(\"{} is spy number \".format(n))\n",
    "else:\n",
    "    print(\"{} is not spy number\".format(n))"
   ]
  },
  {
   "cell_type": "code",
   "execution_count": 31,
   "id": "a6c80a8c-1aad-416a-ae71-46d01a198b30",
   "metadata": {},
   "outputs": [
    {
     "name": "stdin",
     "output_type": "stream",
     "text": [
      "Enter the number 59\n"
     ]
    },
    {
     "name": "stdout",
     "output_type": "stream",
     "text": [
      "59 is special number\n"
     ]
    }
   ],
   "source": [
    "# check the numner is special number or not\n",
    "n=int(input(\"Enter the number\"))\n",
    "m=n\n",
    "sum=0\n",
    "prod=1\n",
    "total=0\n",
    "while m!=0:\n",
    "    d=m%10\n",
    "    prod=prod*d\n",
    "    sum=sum+d\n",
    "    m=m//10\n",
    "\n",
    "if (prod+sum)==n:\n",
    "    print(f'{n} is special number')\n",
    "else:\n",
    "    print(f'{n} is not special number')"
   ]
  },
  {
   "cell_type": "code",
   "execution_count": 47,
   "id": "75bae2c6-37df-46e7-950a-e6208924c89e",
   "metadata": {},
   "outputs": [
    {
     "name": "stdout",
     "output_type": "stream",
     "text": [
      "156 is a Harshad number.\n"
     ]
    }
   ],
   "source": [
    "# check of the number is harshed/niven number or not: a number which is divisible by sum of the its's digits\n",
    "def sum_digit(n):\n",
    "    m=n\n",
    "    sum=0\n",
    "    while m!=0:\n",
    "        d=m%10\n",
    "        sum=sum+d\n",
    "        m=m//10\n",
    "    return sum\n",
    "\n",
    "def is_harshed_number(n):\n",
    "    sum=sum_digit(n)\n",
    "    if n%sum ==0:\n",
    "        return True\n",
    "    else:\n",
    "        return False\n",
    "    \n",
    "n = 156\n",
    "if is_harshed_number(n):\n",
    "    print(f\"{n} is a Harshad number.\")\n",
    "else:\n",
    "    print(f\"{n} is not harshed number\")"
   ]
  },
  {
   "cell_type": "code",
   "execution_count": 67,
   "id": "a5d5968a-9cd2-4cc8-80bb-098884db7016",
   "metadata": {},
   "outputs": [
    {
     "name": "stdout",
     "output_type": "stream",
     "text": [
      "120000 is a duck number and number of zeros 4\n"
     ]
    }
   ],
   "source": [
    "# chech if the the number is duck number or not: a number which has zeros present in its\n",
    "def count_zeros(n):\n",
    "    m=n\n",
    "    count=0\n",
    "    while m!=0:\n",
    "        d=m%10\n",
    "        if d==0:\n",
    "            count=count+1\n",
    "        m=m//10\n",
    "    return count\n",
    "def is_duck_number(n):\n",
    "    count=count_zeros(n)\n",
    "    if count>0:\n",
    "        return True\n",
    "    else:\n",
    "        return False\n",
    "n=120000\n",
    "if is_duck_number(n):\n",
    "    print(f\"{n} is a duck number and number of zeros {count_zeros(n)}\")\n",
    "    \n",
    "else:\n",
    "    print(f\"{n} is not a duck number\")\n",
    "        \n",
    "\n"
   ]
  },
  {
   "cell_type": "code",
   "execution_count": 1,
   "id": "b5f30aaf-8819-4a7f-943f-49a85c1d0e81",
   "metadata": {},
   "outputs": [
    {
     "name": "stdin",
     "output_type": "stream",
     "text": [
      "Enter the number:  9\n"
     ]
    },
    {
     "name": "stdout",
     "output_type": "stream",
     "text": [
      "9 is Neon Number\n"
     ]
    }
   ],
   "source": [
    "# check the number is neon number or not:where the sum of the digit of square is eqaul to the number\n",
    "n=int(input(\"Enter the number: \"))\n",
    "sqr=n*n\n",
    "sum=0\n",
    "while sqr != 0:\n",
    "    d=sqr%10\n",
    "    sum=sum+d\n",
    "    sqr=sqr//10\n",
    "if sum == n:\n",
    "    print(f\"{n} is Neon Number\")\n",
    "else:\n",
    "    print(f\"{n} is not Neon Number\")\n",
    "    "
   ]
  },
  {
   "cell_type": "code",
   "execution_count": 21,
   "id": "44126772-bb08-4a65-b004-ccda5a8d889a",
   "metadata": {},
   "outputs": [
    {
     "name": "stdin",
     "output_type": "stream",
     "text": [
      "Enter the number:  7\n"
     ]
    },
    {
     "name": "stdout",
     "output_type": "stream",
     "text": [
      "7 is not automorphic number\n"
     ]
    }
   ],
   "source": [
    "# chuck the number is automorphic or not:which is containing in the last digit(s) on it's square\n",
    "n=int(input(\"Enter the number: \"))\n",
    "m=n\n",
    "sqr=n*n\n",
    "flag=0\n",
    "while m!=0:\n",
    "    d=m%10\n",
    "    d1=sqr%10\n",
    "    if d==d1:\n",
    "        flag=1\n",
    "    m=m//10\n",
    "    sqr=sqr//10\n",
    "if flag==1:\n",
    "    print(f\"{n} is automorphic number\")\n",
    "else:\n",
    "    print(f\"{n} is not automorphic number\")"
   ]
  },
  {
   "cell_type": "code",
   "execution_count": 27,
   "id": "db27521e-c5df-40a9-ac93-a91758386a9e",
   "metadata": {},
   "outputs": [
    {
     "name": "stdin",
     "output_type": "stream",
     "text": [
      "Enter the number: 123\n"
     ]
    },
    {
     "name": "stdout",
     "output_type": "stream",
     "text": [
      "123 is not km special number\n"
     ]
    }
   ],
   "source": [
    "# check if the number is km,special number or not:where sum of the fuctorial of its's digits are equal to the number\n",
    "import math\n",
    "n=int(input(\"Enter the number:\"))\n",
    "m=n\n",
    "sum=0\n",
    "while m!=0:\n",
    "    d=m%10\n",
    "    sum=sum+math.factorial(d)\n",
    "    m=m//10\n",
    "if sum==n:\n",
    "    print(f\"{n} is Krishnamurthy(km) special number\")\n",
    "else:\n",
    "    print(f\"{n} is not km special number\")"
   ]
  },
  {
   "cell_type": "code",
   "execution_count": null,
   "id": "a1fbf688-a23e-4ba5-9347-54edecaa340f",
   "metadata": {},
   "outputs": [],
   "source": []
  }
 ],
 "metadata": {
  "kernelspec": {
   "display_name": "Python 3 (ipykernel)",
   "language": "python",
   "name": "python3"
  },
  "language_info": {
   "codemirror_mode": {
    "name": "ipython",
    "version": 3
   },
   "file_extension": ".py",
   "mimetype": "text/x-python",
   "name": "python",
   "nbconvert_exporter": "python",
   "pygments_lexer": "ipython3",
   "version": "3.12.4"
  }
 },
 "nbformat": 4,
 "nbformat_minor": 5
}
