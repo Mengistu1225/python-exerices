{
 "cells": [
  {
   "cell_type": "code",
   "execution_count": 15,
   "id": "4c35a656-5406-48f8-a99c-1ba2abd2530f",
   "metadata": {},
   "outputs": [
    {
     "name": "stdin",
     "output_type": "stream",
     "text": [
      "Enter the number 5\n"
     ]
    },
    {
     "name": "stdout",
     "output_type": "stream",
     "text": [
      "* * * * * \n",
      "* * * * * \n",
      "* * * * * \n",
      "* * * * * \n",
      "* * * * * \n"
     ]
    }
   ],
   "source": [
    "# print squere pattern\n",
    "n=int(input(\"Enter the number\"))\n",
    "for i in range(n):\n",
    "    print(\"* \"*5)\n"
   ]
  },
  {
   "cell_type": "code",
   "execution_count": 17,
   "id": "a911a5ee-5a0d-466b-a0cb-5f3921e34c1a",
   "metadata": {},
   "outputs": [
    {
     "name": "stdout",
     "output_type": "stream",
     "text": [
      "* * * * * \n",
      "* * * * * \n",
      "* * * * * \n",
      "* * * * * \n",
      "* * * * * \n"
     ]
    }
   ],
   "source": [
    "# the input from function\n",
    "def print_square_pattern(n):\n",
    "    for i in range(n):\n",
    "        print(\"* \"*n)\n",
    "print_square_pattern(5)"
   ]
  },
  {
   "cell_type": "code",
   "execution_count": 53,
   "id": "dd3a1b86-b132-4a15-9857-e566e72ab43a",
   "metadata": {},
   "outputs": [
    {
     "name": "stdout",
     "output_type": "stream",
     "text": [
      "*  *  *  *  *  \n",
      "*  *  *  *  *  \n",
      "*  *  *  *  *  \n",
      "*  *  *  *  *  \n",
      "*  *  *  *  *  \n"
     ]
    }
   ],
   "source": [
    "# by nested forlo0p\n",
    "n=5\n",
    "for i in range(n):\n",
    "    for j in range(n):\n",
    "        print(\"* \",end=\" \")\n",
    "    print()\n",
    "    "
   ]
  },
  {
   "cell_type": "code",
   "execution_count": 25,
   "id": "87006c15-ff3c-447b-a64a-e4d55fa32c4d",
   "metadata": {},
   "outputs": [
    {
     "name": "stdout",
     "output_type": "stream",
     "text": [
      "* \n",
      "* * \n",
      "* * * \n",
      "* * * * \n",
      "* * * * * \n"
     ]
    }
   ],
   "source": [
    "# pattern problem increasing triangle pattern\n",
    "def increasing_triangle_pattern(n):\n",
    "    for i in range(n):\n",
    "        for j in range(i+1):\n",
    "            print(\"*\",end=' ')\n",
    "        print()\n",
    "increasing_triangle_pattern(5)"
   ]
  },
  {
   "cell_type": "code",
   "execution_count": 39,
   "id": "2fbea11c-12bd-4a46-8c02-60af31c36626",
   "metadata": {},
   "outputs": [
    {
     "name": "stdout",
     "output_type": "stream",
     "text": [
      "* * * * * \n",
      "* * * * \n",
      "* * * \n",
      "* * \n",
      "* \n"
     ]
    }
   ],
   "source": [
    "# pattern problem for decreasing triangle mattern\n",
    "def decreasing_triangle_pattern(n):\n",
    "    for i in range(n):\n",
    "        for j in range(i,n):\n",
    "            print(\"*\",end=\" \")\n",
    "            \n",
    "        print()\n",
    "decreasing_triangle_pattern(5)"
   ]
  },
  {
   "cell_type": "code",
   "execution_count": 55,
   "id": "9ffda9ea-5084-4cda-907c-d5267517a869",
   "metadata": {},
   "outputs": [
    {
     "name": "stdout",
     "output_type": "stream",
     "text": [
      "          * \n",
      "        * * \n",
      "      * * * \n",
      "    * * * * \n",
      "  * * * * * \n"
     ]
    }
   ],
   "source": [
    "# pattern problem for right side triangel pattern\n",
    "   # rigt_side_triangle= one decreasing triangle  space + one increase triangle star\n",
    "def right_side_triangle_pattern(n):\n",
    "    for i in range(n):\n",
    "        for j in range(i,n):\n",
    "            print(\" \",end=\" \")\n",
    "        for j in range(i+1):\n",
    "            print(\"*\",end=\" \")\n",
    "        print()\n",
    "right_side_triangle_pattern(5)\n"
   ]
  },
  {
   "cell_type": "code",
   "execution_count": 57,
   "id": "e209f694-08f8-410e-b785-10aee350e590",
   "metadata": {},
   "outputs": [
    {
     "name": "stdout",
     "output_type": "stream",
     "text": [
      "  * * * * * \n",
      "    * * * * \n",
      "      * * * \n",
      "        * * \n",
      "          * \n"
     ]
    }
   ],
   "source": [
    "# pattern problem for lef side triangle pattern\n",
    "   # left side tiangle=one increasing triangle space + one decreasing triangle star\n",
    "def left_side_triangle_pattern(n):\n",
    "    for i in range(n):\n",
    "        for j in range(i+1):\n",
    "            print(\" \",end=\" \")\n",
    "        for j in range(i,n):\n",
    "            print(\"*\",end=\" \")\n",
    "        print()\n",
    "left_side_triangle_pattern(5)\n",
    "        "
   ]
  },
  {
   "cell_type": "code",
   "execution_count": 61,
   "id": "fd5cce25-8f0a-4c87-af8d-efa9b0489b63",
   "metadata": {},
   "outputs": [
    {
     "name": "stdout",
     "output_type": "stream",
     "text": [
      "          * \n",
      "        * * * \n",
      "      * * * * * \n",
      "    * * * * * * * \n",
      "  * * * * * * * * * \n"
     ]
    }
   ],
   "source": [
    "# pattern problem for hill pattern\n",
    "  # hill pattern= decreasing star + increasing star + increasing star\n",
    "\n",
    "def hill_pattern(n):\n",
    "    for i in range(n):\n",
    "        for j in range(i,n):\n",
    "            print(\" \",end=\" \")\n",
    "        for j in range(i+1):\n",
    "            print(\"*\",end=' ')\n",
    "        for j in range(i):\n",
    "            print(\"*\",end=' ')\n",
    "        print()\n",
    "hill_pattern(5)"
   ]
  },
  {
   "cell_type": "code",
   "execution_count": 65,
   "id": "d3b3f003-102a-4374-a47f-d503cc2141ea",
   "metadata": {},
   "outputs": [
    {
     "name": "stdout",
     "output_type": "stream",
     "text": [
      "  * * * * * * * * * \n",
      "    * * * * * * * \n",
      "      * * * * * \n",
      "        * * * \n",
      "          * \n"
     ]
    }
   ],
   "source": [
    "# pattern for reverse hill  problem pattern\n",
    "  # reverse hill pattern =one increasing space triangle + two decreasing star triangle\n",
    "def reverse_hill_pattern(n):\n",
    "    for i in range(n):\n",
    "        for j in range(i+1):\n",
    "            print(\" \",end=\" \")\n",
    "        for j in range(i,n-1):\n",
    "            print(\"*\",end=\" \")\n",
    "        for j in range(i,n):\n",
    "            print(\"*\",end=\" \")\n",
    "        print()\n",
    "reverse_hill_pattern(5)"
   ]
  },
  {
   "cell_type": "code",
   "execution_count": 85,
   "id": "8ef3c028-37a1-4fc6-b79d-8aff3efb0d0a",
   "metadata": {},
   "outputs": [
    {
     "name": "stdout",
     "output_type": "stream",
     "text": [
      "          * \n",
      "        * * * \n",
      "      * * * * * \n",
      "    * * * * * * * \n",
      "  * * * * * * * * * \n",
      "  * * * * * * * * * \n",
      "    * * * * * * * \n",
      "      * * * * * \n",
      "        * * * \n",
      "          * \n",
      " other way\n",
      "          * \n",
      "        * * * \n",
      "      * * * * * \n",
      "    * * * * * * * \n",
      "  * * * * * * * * * \n",
      "    * * * * * * * \n",
      "      * * * * * \n",
      "        * * * \n",
      "          * \n"
     ]
    }
   ],
   "source": [
    "# patternfor diamond problem pattern\n",
    "   # diamond pattern=hill pattern + reverse hill pattern\n",
    "def diamond_pattern(n):\n",
    "    hill_pattern(n)\n",
    "    reverse_hill_pattern(n)\n",
    "diamond_pattern(5)\n",
    "\n",
    "print(\" other way\")\n",
    "# in other mean\n",
    "def diamond_pattern_problem(n):\n",
    "    for i in range(n-1):\n",
    "        for j in range(i,n):\n",
    "            print(\" \",end=\" \")\n",
    "        for j in range(i+1):\n",
    "            print(\"*\",end=' ')\n",
    "        for j in range(i):\n",
    "            print(\"*\",end=' ')\n",
    "        print()\n",
    "    for i in range(n):\n",
    "        for j in range(i+1):\n",
    "            print(\" \",end=\" \")\n",
    "        for j in range(i,n-1):\n",
    "            print(\"*\",end=\" \")\n",
    "        for j in range(i,n):\n",
    "            print(\"*\",end=\" \")\n",
    "        print()\n",
    "diamond_pattern_problem(5)\n",
    "    "
   ]
  },
  {
   "cell_type": "code",
   "execution_count": null,
   "id": "ebb14c38-56fb-4fa5-b778-602812d5a38b",
   "metadata": {},
   "outputs": [],
   "source": []
  }
 ],
 "metadata": {
  "kernelspec": {
   "display_name": "Python 3 (ipykernel)",
   "language": "python",
   "name": "python3"
  },
  "language_info": {
   "codemirror_mode": {
    "name": "ipython",
    "version": 3
   },
   "file_extension": ".py",
   "mimetype": "text/x-python",
   "name": "python",
   "nbconvert_exporter": "python",
   "pygments_lexer": "ipython3",
   "version": "3.12.4"
  }
 },
 "nbformat": 4,
 "nbformat_minor": 5
}
