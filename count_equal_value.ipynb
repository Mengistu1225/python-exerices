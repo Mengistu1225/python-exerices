{
 "cells": [
  {
   "cell_type": "markdown",
   "id": "15571eca-9068-4764-8131-e2050519aee7",
   "metadata": {},
   "source": [
    "### Count of equal value pairs from given two Arrays such that a[i] equals b[j]"
   ]
  },
  {
   "cell_type": "code",
   "execution_count": 18,
   "id": "5e30827c-0f13-4136-8c78-8f3f28c71309",
   "metadata": {},
   "outputs": [
    {
     "name": "stdout",
     "output_type": "stream",
     "text": [
      "11\n"
     ]
    }
   ],
   "source": [
    "\n",
    "def findPairs(a, b, n, m):\n",
    "    \n",
    "    # Initialize ans, i, j to 0 .\n",
    "    ans = 0\n",
    "    i = 0\n",
    "    j = 0\n",
    "\n",
    "\n",
    "    while (i < n and j < m):\n",
    "\n",
    "        # Case - 1\n",
    "        if (a[i] == b[j]):\n",
    "\n",
    "            target = a[i]\n",
    "            cnt1 = 0\n",
    "            cnt2 = 0\n",
    "\n",
    "            # Calculate cnt1\n",
    "            while (i < n and a[i] == target):\n",
    "                cnt1 += 1\n",
    "                i += 1\n",
    "\n",
    "            # Calculate cnt2\n",
    "            while (j < m and b[j] == target):\n",
    "                cnt2 += 1\n",
    "                j += 1\n",
    "\n",
    "            # Increment the answer by (cnt1 * cnt2)\n",
    "            ans += (cnt1 * cnt2)\n",
    "\n",
    "        # Case - 2\n",
    "        elif (a[i] < b[j]):\n",
    "            i += 1\n",
    "\n",
    "        # Case- 3\n",
    "        else:\n",
    "            j += 1\n",
    "\n",
    "    # Return the answer\n",
    "    return ans\n",
    "\n",
    "N = 8\n",
    "M = 7\n",
    "a = [ 1, 1, 3, 3, 3, 5, 8, 8 ]\n",
    "b = [ 1, 3, 3, 4, 5, 5, 5 ]\n",
    "\n",
    "result=findPairs(a,b,N,M)\n",
    "print(result)\n",
    "\n",
    "# This code is contributed by ukasp\n"
   ]
  },
  {
   "cell_type": "code",
   "execution_count": 20,
   "id": "6f7cfd0f-af4f-439c-9bb5-95033c733b2a",
   "metadata": {},
   "outputs": [
    {
     "name": "stdout",
     "output_type": "stream",
     "text": [
      "11\n"
     ]
    }
   ],
   "source": [
    "# binary search\n",
    "def binary_search(b, x):\n",
    "    left, right = 0, len(b) - 1\n",
    "    left_index, right_index = len(b), -1\n",
    "\n",
    "    while left <= right:\n",
    "        mid = left + (right - left) // 2\n",
    "        if b[mid] == x:\n",
    "            left_index = mid\n",
    "            right = mid - 1\n",
    "        elif b[mid] < x:\n",
    "            left = mid + 1\n",
    "        else:\n",
    "            right = mid - 1\n",
    "\n",
    "    left, right = 0, len(b) - 1\n",
    "    while left <= right:\n",
    "        mid = left + (right - left) // 2\n",
    "        if b[mid] == x:\n",
    "            right_index = mid\n",
    "            left = mid + 1\n",
    "        elif b[mid] < x:\n",
    "            left = mid + 1\n",
    "        else:\n",
    "            right = mid - 1\n",
    "\n",
    "    return max(0, right_index - left_index + 1)\n",
    "\n",
    "\n",
    "def count_pairs(a, b):\n",
    "    count = 0\n",
    "\n",
    "    for num in a:\n",
    "        count += binary_search(b, num)\n",
    "\n",
    "    return count\n",
    "if __name__ == \"__main__\":\n",
    "    a = [1, 1, 3, 3, 3, 5, 8, 8]\n",
    "    b = [1, 3, 3, 4, 5, 5, 5]\n",
    "    pairs = count_pairs(a, b)\n",
    "\n",
    "    # Output\n",
    "    print(pairs)\n",
    "\n"
   ]
  },
  {
   "cell_type": "code",
   "execution_count": null,
   "id": "99611c9f-f4ed-40ed-8ad3-502d32ea2fc9",
   "metadata": {},
   "outputs": [],
   "source": []
  }
 ],
 "metadata": {
  "kernelspec": {
   "display_name": "Python 3 (ipykernel)",
   "language": "python",
   "name": "python3"
  },
  "language_info": {
   "codemirror_mode": {
    "name": "ipython",
    "version": 3
   },
   "file_extension": ".py",
   "mimetype": "text/x-python",
   "name": "python",
   "nbconvert_exporter": "python",
   "pygments_lexer": "ipython3",
   "version": "3.12.4"
  }
 },
 "nbformat": 4,
 "nbformat_minor": 5
}
