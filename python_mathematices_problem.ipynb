{
 "cells": [
  {
   "cell_type": "code",
   "execution_count": 13,
   "id": "68ba3953-6c86-4d26-bc3d-b200c6737617",
   "metadata": {},
   "outputs": [
    {
     "name": "stdin",
     "output_type": "stream",
     "text": [
      "Enter the degree 90\n"
     ]
    },
    {
     "name": "stdout",
     "output_type": "stream",
     "text": [
      "1.5707963267948966\n",
      "1.5707963267948966\n"
     ]
    }
   ],
   "source": [
    "# convert degree into radian\n",
    "import math\n",
    "degree=float(int(input(\"Enter the degree\")))\n",
    "radian1=float(degree/180)*math.pi\n",
    "print(radian1)\n",
    "\n",
    "radian2=math.radians(degree)\n",
    "print(radian2)"
   ]
  },
  {
   "cell_type": "code",
   "execution_count": 23,
   "id": "77c0cf62-062a-4f6d-9d61-a4d8bf21e5cc",
   "metadata": {},
   "outputs": [
    {
     "name": "stdin",
     "output_type": "stream",
     "text": [
      "Enter the radian 1.5707\n"
     ]
    },
    {
     "name": "stdout",
     "output_type": "stream",
     "text": [
      "90.52733163067008\n",
      "89.9944808811984\n"
     ]
    }
   ],
   "source": [
    "# convert radian into degree\n",
    "import math\n",
    "radian=float(input(\"Enter the radian\"))\n",
    "degree1=(180*radian)/math.pi\n",
    "print(degree)\n",
    "\n",
    "degree2=math.degrees(radian)\n",
    "print(degree2)"
   ]
  },
  {
   "cell_type": "code",
   "execution_count": 25,
   "id": "954dac00-2c16-4833-879a-947e47e1a3da",
   "metadata": {},
   "outputs": [
    {
     "name": "stdin",
     "output_type": "stream",
     "text": [
      "Enter the base1 12\n",
      "Enter the base2 12\n",
      "Enter the hieght 12\n"
     ]
    },
    {
     "name": "stdout",
     "output_type": "stream",
     "text": [
      "144.0\n"
     ]
    }
   ],
   "source": [
    "# calculate the area of trapezoid\n",
    "base1=int(input(\"Enter the base1\"))\n",
    "base2=int(input(\"Enter the base2\"))\n",
    "hieght=int(input(\"Enter the hieght\"))\n",
    "base=base1+base2\n",
    "area=(base*hieght)/2\n",
    "print(area)"
   ]
  },
  {
   "cell_type": "code",
   "execution_count": null,
   "id": "8142c8e4-2335-40eb-9eea-71519e4ca8ad",
   "metadata": {},
   "outputs": [],
   "source": []
  }
 ],
 "metadata": {
  "kernelspec": {
   "display_name": "Python 3 (ipykernel)",
   "language": "python",
   "name": "python3"
  },
  "language_info": {
   "codemirror_mode": {
    "name": "ipython",
    "version": 3
   },
   "file_extension": ".py",
   "mimetype": "text/x-python",
   "name": "python",
   "nbconvert_exporter": "python",
   "pygments_lexer": "ipython3",
   "version": "3.12.4"
  }
 },
 "nbformat": 4,
 "nbformat_minor": 5
}
