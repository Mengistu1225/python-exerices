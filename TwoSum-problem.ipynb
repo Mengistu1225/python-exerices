{
 "cells": [
  {
   "cell_type": "markdown",
   "id": "b4bc4b04-5e43-4b0a-bf7d-aee4eb6055bb",
   "metadata": {},
   "source": [
    "###  1 By generating all possible pairs - O(n2) time and O(1) space\n"
   ]
  },
  {
   "cell_type": "code",
   "execution_count": 46,
   "id": "680429eb-9deb-4653-8368-635e35b4fed6",
   "metadata": {},
   "outputs": [],
   "source": [
    "def two_sum_brute_force(arr,target):\n",
    "    n=len(arr)\n",
    "    for i in range(n):\n",
    "        for j in range(i+1,n):\n",
    "            if arr[i]+ arr[j]==target:\n",
    "                return True\n",
    "    return False"
   ]
  },
  {
   "cell_type": "code",
   "execution_count": 48,
   "id": "f14a8c8d-f5c1-451a-8671-4562b568c13c",
   "metadata": {},
   "outputs": [
    {
     "ename": "SyntaxError",
     "evalue": "'return' outside function (169221867.py, line 4)",
     "output_type": "error",
     "traceback": [
      "\u001b[0;36m  Cell \u001b[0;32mIn[48], line 4\u001b[0;36m\u001b[0m\n\u001b[0;31m    return True\u001b[0m\n\u001b[0m    ^\u001b[0m\n\u001b[0;31mSyntaxError\u001b[0m\u001b[0;31m:\u001b[0m 'return' outside function\n"
     ]
    }
   ],
   "source": [
    "arr=[0, -1, 2, -3, 1]\n",
    "target=-2\n",
    "if two_sum_brute_force(arr,target):\n",
    "    return True\n",
    "else:\n",
    "    return False"
   ]
  },
  {
   "cell_type": "markdown",
   "id": "3eea70f4-0682-4907-89b1-c1e1f9b2f22f",
   "metadata": {},
   "source": [
    "###  2 By generating all possible pairs - O(n2) time and O(1) space\n"
   ]
  },
  {
   "cell_type": "code",
   "execution_count": 17,
   "id": "f3160325-43f6-4e31-a39d-3b58f06902b9",
   "metadata": {},
   "outputs": [],
   "source": [
    "def two_sum_hashing(arr,target):\n",
    "    s=set()\n",
    "    for num in arr:\n",
    "        complement=target-num\n",
    "        if complement in s:\n",
    "            print(f\"Pair found: {num} and {complement}\")\n",
    "            return\n",
    "        s.add(num)\n",
    "    print(\"pair not found\")\n",
    "    "
   ]
  },
  {
   "cell_type": "markdown",
   "id": "be3e4443-cd89-4cca-8537-81d3e8945565",
   "metadata": {},
   "source": [
    "### 3 Using Two-Pointer Technique - O(n) time and O(1) space\n"
   ]
  },
  {
   "cell_type": "code",
   "execution_count": 23,
   "id": "af24f395-6eb9-4106-808e-b7b6ab11dfd2",
   "metadata": {},
   "outputs": [],
   "source": [
    "def two_sum_two_pointer(arr,target):\n",
    "    left,right=0,len(arr)-1\n",
    "    while left<right:\n",
    "        sum=arr[left]+arr[right]\n",
    "        if sum==target:\n",
    "            print(f\"Pair found: {arr[left]} and \" f\"{arr[right]}\")\n",
    "            return\n",
    "        elif target<sum:\n",
    "            left +=1\n",
    "        else:\n",
    "            right -=1\n",
    "    print(\"no pair found\")\n",
    "\n",
    "        "
   ]
  },
  {
   "cell_type": "code",
   "execution_count": null,
   "id": "b6723f6b-0e6e-466c-92de-ef4843e84fc1",
   "metadata": {},
   "outputs": [],
   "source": []
  }
 ],
 "metadata": {
  "kernelspec": {
   "display_name": "Python 3 (ipykernel)",
   "language": "python",
   "name": "python3"
  },
  "language_info": {
   "codemirror_mode": {
    "name": "ipython",
    "version": 3
   },
   "file_extension": ".py",
   "mimetype": "text/x-python",
   "name": "python",
   "nbconvert_exporter": "python",
   "pygments_lexer": "ipython3",
   "version": "3.12.4"
  }
 },
 "nbformat": 4,
 "nbformat_minor": 5
}
