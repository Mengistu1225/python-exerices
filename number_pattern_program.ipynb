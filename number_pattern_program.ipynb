{
 "cells": [
  {
   "cell_type": "code",
   "execution_count": 1,
   "id": "d999ea0d-bae5-4afc-99e3-643f61dc325c",
   "metadata": {},
   "outputs": [],
   "source": [
    "# number pattern program=pattern+number"
   ]
  },
  {
   "cell_type": "code",
   "execution_count": 7,
   "id": "8f50cf07-8050-4e93-a906-b67807fe804f",
   "metadata": {},
   "outputs": [
    {
     "name": "stdout",
     "output_type": "stream",
     "text": [
      "1 \n",
      "1 1 \n",
      "1 1 1 \n",
      "1 1 1 1 \n",
      "1 1 1 1 1 \n"
     ]
    }
   ],
   "source": [
    "# increase pattern+one number\n",
    "\n",
    "n=5\n",
    "def pattern_one(n):\n",
    "    for i in range(n):\n",
    "        for j in range(i+1):\n",
    "            print(\"1\",end=' ')\n",
    "        print()\n",
    "pattern_one(n)"
   ]
  },
  {
   "cell_type": "code",
   "execution_count": 31,
   "id": "ef9dd60e-1ec3-4443-a8a3-8323321d142b",
   "metadata": {},
   "outputs": [
    {
     "name": "stdout",
     "output_type": "stream",
     "text": [
      "programe one\n",
      "1 \n",
      "2 2 \n",
      "3 3 3 \n",
      "4 4 4 4 \n",
      "5 5 5 5 5 \n",
      "programe two\n",
      "1 \n",
      "2 2 \n",
      "3 3 3 \n",
      "4 4 4 4 \n",
      "5 5 5 5 5 \n"
     ]
    }
   ],
   "source": [
    "# pattern=increaseing pattern\n",
    "# number=increament number\n",
    "#program=puttern+number\n",
    "\n",
    "def pattern_increasing_number(n):\n",
    "    for i in range(n):\n",
    "        for j in range(i+1):\n",
    "            print(i+1,end=\" \")\n",
    "        print()\n",
    "\n",
    "\n",
    "def pattern_increase_number(n):\n",
    "    p=1\n",
    "    for i in range(n):\n",
    "        for j in range(i+1):\n",
    "            print(p,end=' ')\n",
    "        p=p+1\n",
    "        print()\n",
    "print('programe one')   \n",
    "pattern_increasing_number(5)\n",
    "print('programe two')      \n",
    "pattern_increase_number(5)"
   ]
  },
  {
   "cell_type": "code",
   "execution_count": 33,
   "id": "ed335829-83a8-4d9a-8297-40b579608c14",
   "metadata": {},
   "outputs": [
    {
     "name": "stdout",
     "output_type": "stream",
     "text": [
      "5 \n",
      "4 4 \n",
      "3 3 3 \n",
      "2 2 2 2 \n",
      "1 1 1 1 1 \n"
     ]
    }
   ],
   "source": [
    "# example two\n",
    "def pattern_number_two(n):\n",
    "    p=n\n",
    "    for i in range(n):\n",
    "        for j in range(i+1):\n",
    "            print(p,end=' ')\n",
    "        p=p-1\n",
    "        print()\n",
    "pattern_number_two(5)"
   ]
  },
  {
   "cell_type": "code",
   "execution_count": 37,
   "id": "ee13d227-d66d-424f-8593-5759ec618c8e",
   "metadata": {},
   "outputs": [
    {
     "name": "stdout",
     "output_type": "stream",
     "text": [
      "0 \n",
      "2 2 \n",
      "4 4 4 \n",
      "6 6 6 6 \n",
      "8 8 8 8 8 \n"
     ]
    }
   ],
   "source": [
    "#example three\n",
    "def pattern_number_three(n):\n",
    "    p=0\n",
    "    for i in range(n):\n",
    "        for j in range(i+1):\n",
    "            print(p,end=' ')\n",
    "        p=p+2\n",
    "        print()\n",
    "pattern_number_three(5)"
   ]
  },
  {
   "cell_type": "code",
   "execution_count": 45,
   "id": "068051f4-f3ef-4f27-a085-e348b2e087fb",
   "metadata": {},
   "outputs": [
    {
     "name": "stdout",
     "output_type": "stream",
     "text": [
      "1 \n",
      "2 2 \n",
      "1 1 1 \n",
      "2 2 2 2 \n",
      "1 1 1 1 1 \n"
     ]
    }
   ],
   "source": [
    "# example four\n",
    "def pattern_number_four(n):\n",
    "    for i in range(n):\n",
    "        for j in range(i+1):\n",
    "            if i%2==0:\n",
    "                print(1,end=' ')\n",
    "            else:\n",
    "                print(2,end=' ')\n",
    "        print()\n",
    "pattern_number_four(5)"
   ]
  },
  {
   "cell_type": "code",
   "execution_count": null,
   "id": "e4e987f2-b81b-4f15-ad62-01f2248fd28f",
   "metadata": {},
   "outputs": [],
   "source": []
  }
 ],
 "metadata": {
  "kernelspec": {
   "display_name": "Python 3 (ipykernel)",
   "language": "python",
   "name": "python3"
  },
  "language_info": {
   "codemirror_mode": {
    "name": "ipython",
    "version": 3
   },
   "file_extension": ".py",
   "mimetype": "text/x-python",
   "name": "python",
   "nbconvert_exporter": "python",
   "pygments_lexer": "ipython3",
   "version": "3.12.4"
  }
 },
 "nbformat": 4,
 "nbformat_minor": 5
}
